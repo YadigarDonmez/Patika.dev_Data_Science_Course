{
 "cells": [
  {
   "cell_type": "markdown",
   "id": "3b468a94-19b0-49f9-a9ba-279c9b81ea5a",
   "metadata": {},
   "source": [
    "#### Insertion Sort Project - Project 1\n",
    "Part 1: Insertion Sort Steps for [22, 27, 16, 2, 18, 6]\n",
    "\n",
    "Step-by-step sorting:\n",
    "\n",
    "Step 1: Compare 27 with 22 → no change\n",
    "[22, 27, 16, 2, 18, 6]\n",
    "\n",
    "Step 2: Insert 16 into the sorted part [22, 27] →\n",
    "[16, 22, 27, 2, 18, 6]\n",
    "\n",
    "Step 3: Insert 2 into the sorted part [16, 22, 27] →\n",
    "[2, 16, 22, 27, 18, 6]\n",
    "\n",
    "Step 4: Insert 18 into the sorted part [2, 16, 22, 27] →\n",
    "[2, 16, 18, 22, 27, 6]\n",
    "\n",
    "Step 5: Insert 6 into the sorted part [2, 16, 18, 22, 27] →\n",
    "[2, 6, 16, 18, 22, 27]\n",
    "\n",
    "Final Sorted List:\n",
    "[2, 6, 16, 18, 22, 27]\n",
    "\n",
    "\n",
    "Big-O Time Complexity of Insertion Sort\n",
    "\n",
    "Best Case: O(n) – already sorted list\n",
    "\n",
    "Average Case: O(n^2)\n",
    "\n",
    "Worst Case: O(n^2) – reversed list\n",
    "\n",
    "Time Complexity Case for 18\n",
    "\n",
    "After sorting, the number 18 is in the middle of the list.\n",
    "\n",
    "Therefore, it falls under Average Case.\n",
    "\n",
    "\n",
    "\n"
   ]
  },
  {
   "cell_type": "markdown",
   "id": "fff7ce68-1b29-42b8-a17e-3a3b6cc816dd",
   "metadata": {},
   "source": [
    "#### Part 2: Selection Sort - First 4 Steps for [7, 3, 5, 8, 2, 9, 4, 15, 6]\n",
    "\n",
    "Step 1: Minimum = 2 → swap with first element\n",
    "[2, 3, 5, 8, 7, 9, 4, 15, 6]\n",
    "\n",
    "Step 2: Minimum of remaining = 3 → already in place\n",
    "[2, 3, 5, 8, 7, 9, 4, 15, 6]\n",
    "\n",
    "Step 3: Minimum of remaining = 4 → swap with 5\n",
    "[2, 3, 4, 8, 7, 9, 5, 15, 6]\n",
    "\n",
    "Step 4: Minimum of remaining = 5 → swap with 8\n",
    "[2, 3, 4, 5, 7, 9, 8, 15, 6]"
   ]
  },
  {
   "cell_type": "code",
   "execution_count": null,
   "id": "ca373c99-4b78-42eb-88c3-c24bfcf01f5c",
   "metadata": {},
   "outputs": [],
   "source": []
  }
 ],
 "metadata": {
  "kernelspec": {
   "display_name": "Python 3.13",
   "language": "python",
   "name": "py313"
  },
  "language_info": {
   "codemirror_mode": {
    "name": "ipython",
    "version": 3
   },
   "file_extension": ".py",
   "mimetype": "text/x-python",
   "name": "python",
   "nbconvert_exporter": "python",
   "pygments_lexer": "ipython3",
   "version": "3.12.8"
  }
 },
 "nbformat": 4,
 "nbformat_minor": 5
}
