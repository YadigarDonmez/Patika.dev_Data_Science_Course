{
 "cells": [
  {
   "cell_type": "markdown",
   "id": "4d6df858-7d12-4ac2-9536-545893529d28",
   "metadata": {},
   "source": [
    "#### Part 1: Merge Sort Steps for [16, 21, 11, 8, 12, 22]\n",
    "\n",
    "*Step-by-step sorting:\n",
    "\n",
    "-Step 1: Divide the list\n",
    "[16, 21, 11] and [8, 12, 22]\n",
    "\n",
    "-Step 2: Divide sublists again\n",
    "[16, 21, 11] → [16] and [21, 11]\n",
    "[8, 12, 22] → [8] and [12, 22]\n",
    "\n",
    "-Step 3: Divide until single elements\n",
    "[21, 11] → [21] and [11]\n",
    "[12, 22] → [12] and [22]\n",
    "\n",
    "-Step 4: Merge sublists\n",
    "\n",
    "Merge [21] and [11] → [11, 21]\n",
    "\n",
    "Merge [12] and [22] → [12, 22]\n",
    "\n",
    "-Step 5: Merge with single elements\n",
    "\n",
    "Merge [16] and [11, 21] → [11, 16, 21]\n",
    "\n",
    "Merge [8] and [12, 22] → [8, 12, 22]\n",
    "\n",
    "-Step 6: Final merge\n",
    "\n",
    "Merge [11, 16, 21] and [8, 12, 22] → [8, 11, 12, 16, 21, 22]\n",
    "\n",
    "Final Sorted List:\n",
    "[8, 11, 12, 16, 21, 22]Part 1: Merge Sort Steps for [16, 21, 11, 8, 12, 22]\n",
    "\n"
   ]
  },
  {
   "cell_type": "markdown",
   "id": "e0cf6dd4-095d-44c2-afc7-71c4b32c153f",
   "metadata": {},
   "source": [
    "#### Big-O Time Complexity of Merge Sort\n",
    "\n",
    "Best Case: O(n log n)\n",
    "\n",
    "Average Case: O(n log n)\n",
    "\n",
    "Worst Case: O(n log n)\n",
    "\n",
    "Space Complexity: O(n)"
   ]
  },
  {
   "cell_type": "code",
   "execution_count": null,
   "id": "573366e6-fbad-45a1-8ef1-1cb66dc73fbb",
   "metadata": {},
   "outputs": [],
   "source": []
  }
 ],
 "metadata": {
  "kernelspec": {
   "display_name": "Python 3.13",
   "language": "python",
   "name": "py313"
  },
  "language_info": {
   "codemirror_mode": {
    "name": "ipython",
    "version": 3
   },
   "file_extension": ".py",
   "mimetype": "text/x-python",
   "name": "python",
   "nbconvert_exporter": "python",
   "pygments_lexer": "ipython3",
   "version": "3.12.8"
  }
 },
 "nbformat": 4,
 "nbformat_minor": 5
}
