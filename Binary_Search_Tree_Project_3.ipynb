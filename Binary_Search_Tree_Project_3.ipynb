{
 "cells": [
  {
   "cell_type": "markdown",
   "id": "80f122e8-2d5f-4961-a706-5ed7c73b51a6",
   "metadata": {},
   "source": [
    "#### Binary Search Tree Steps for [7, 5, 1, 8, 3, 6, 0, 9, 4, 2]\n",
    "\n",
    "Root is 7.\n",
    "\n",
    "5 is less than 7 → goes to the left of 7.\n",
    "\n",
    "1 is less than 7 and less than 5 → goes to the left of 5.\n",
    "\n",
    "8 is greater than 7 → goes to the right of 7.\n",
    "\n",
    "3 is less than 7, less than 5, greater than 1 → goes to the right of 1.\n",
    "\n",
    "6 is less than 7, greater than 5 → goes to the right of 5.\n",
    "\n",
    "0 is less than 7, less than 5, less than 1 → goes to the left of 1.\n",
    "\n",
    "9 is greater than 7, greater than 8 → goes to the right of 8.\n",
    "\n",
    "4 is less than 7, less than 5, greater than 1, greater than 3 → goes to the right of 3.\n",
    "\n",
    "2 is less than 7, less than 5, greater than 1, less than 3 → goes to the left of 3."
   ]
  },
  {
   "cell_type": "code",
   "execution_count": null,
   "id": "0c76c064-0c28-4039-b74e-55b4309346b5",
   "metadata": {},
   "outputs": [],
   "source": []
  }
 ],
 "metadata": {
  "kernelspec": {
   "display_name": "Python 3.13",
   "language": "python",
   "name": "py313"
  },
  "language_info": {
   "codemirror_mode": {
    "name": "ipython",
    "version": 3
   },
   "file_extension": ".py",
   "mimetype": "text/x-python",
   "name": "python",
   "nbconvert_exporter": "python",
   "pygments_lexer": "ipython3",
   "version": "3.12.8"
  }
 },
 "nbformat": 4,
 "nbformat_minor": 5
}
