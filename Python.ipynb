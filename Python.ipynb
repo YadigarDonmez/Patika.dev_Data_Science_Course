{
 "cells": [
  {
   "cell_type": "code",
   "execution_count": null,
   "id": "e090ad66-2545-4326-8ba3-e99f55a0de35",
   "metadata": {},
   "outputs": [],
   "source": []
  }
 ],
 "metadata": {
  "kernelspec": {
   "display_name": "",
   "name": ""
  },
  "language_info": {
   "name": ""
  }
 },
 "nbformat": 4,
 "nbformat_minor": 5
}
